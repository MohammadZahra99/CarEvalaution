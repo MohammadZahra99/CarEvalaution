{
 "cells": [
  {
   "cell_type": "markdown",
   "id": "48e2e582-c9b4-4c5d-a186-3eb5f50e95c8",
   "metadata": {
    "tags": []
   },
   "source": [
    "# Car Evaluation Dataset"
   ]
  },
  {
   "cell_type": "markdown",
   "id": "41cdbf86-29c3-4fec-8cc6-f107d6eb3b44",
   "metadata": {},
   "source": [
    "### In this project, we compare 3 models (SVM, MLP, Logistic Regression) on Car Evaluation dataset and we use GridSearchCV for hypertuning our models "
   ]
  },
  {
   "cell_type": "markdown",
   "id": "1271aca2-ecf6-425c-8aa1-53bdc7b77ce5",
   "metadata": {},
   "source": [
    "#### GridSearchCV is an exhaustive search method, which ensures we get the best hyperparameters from our parameter grid, but it comes at the expense of a long execution time and/or an intensive workload; if time or performance are an issue, you might consider using RandomSearchCV, but it is not exhaustive and finding the best hyperparameters is not guaranteed."
   ]
  },
  {
   "cell_type": "markdown",
   "id": "7d64c3f4-8fd8-4cf6-a795-3e5bcc19f863",
   "metadata": {},
   "source": [
    "#### This dataset was obtained from  https://archive.ics.uci.edu/ml/datasets/car+evaluation\n",
    "#### Creator: Marko Bohanec\n",
    "#### Donors: \n",
    "#### Marko Bohanec (marko.bohanec@ijs.si)\n",
    "#### Blaz Zupan (blaz.zupan@ijs.si)"
   ]
  },
  {
   "cell_type": "code",
   "execution_count": 1,
   "id": "134d1516-52b8-4259-870d-b1411076eaa6",
   "metadata": {},
   "outputs": [],
   "source": [
    "import numpy as np\n",
    "import pandas as pd\n",
    "from sklearn.model_selection import train_test_split\n",
    "from sklearn.neural_network import MLPClassifier\n",
    "from sklearn.svm import SVC\n",
    "from sklearn.linear_model import LogisticRegression\n",
    "from sklearn.model_selection import GridSearchCV\n",
    "from sklearn.metrics import accuracy_score,classification_report,confusion_matrix,ConfusionMatrixDisplay\n",
    "import category_encoders as ce\n",
    "import matplotlib.pyplot as plt"
   ]
  },
  {
   "cell_type": "markdown",
   "id": "beb23118-2dfa-4268-b46b-1a6d809e41a1",
   "metadata": {},
   "source": [
    "### Dataset preprocessing "
   ]
  },
  {
   "cell_type": "code",
   "execution_count": 2,
   "id": "e15ff226-53ac-40a5-97c9-88b2e3dd35b8",
   "metadata": {},
   "outputs": [
    {
     "data": {
      "text/html": [
       "<div>\n",
       "<style scoped>\n",
       "    .dataframe tbody tr th:only-of-type {\n",
       "        vertical-align: middle;\n",
       "    }\n",
       "\n",
       "    .dataframe tbody tr th {\n",
       "        vertical-align: top;\n",
       "    }\n",
       "\n",
       "    .dataframe thead th {\n",
       "        text-align: right;\n",
       "    }\n",
       "</style>\n",
       "<table border=\"1\" class=\"dataframe\">\n",
       "  <thead>\n",
       "    <tr style=\"text-align: right;\">\n",
       "      <th></th>\n",
       "      <th>0</th>\n",
       "      <th>1</th>\n",
       "      <th>2</th>\n",
       "      <th>3</th>\n",
       "      <th>4</th>\n",
       "      <th>5</th>\n",
       "      <th>6</th>\n",
       "    </tr>\n",
       "  </thead>\n",
       "  <tbody>\n",
       "    <tr>\n",
       "      <th>0</th>\n",
       "      <td>vhigh</td>\n",
       "      <td>vhigh</td>\n",
       "      <td>2</td>\n",
       "      <td>2</td>\n",
       "      <td>small</td>\n",
       "      <td>low</td>\n",
       "      <td>unacc</td>\n",
       "    </tr>\n",
       "    <tr>\n",
       "      <th>1</th>\n",
       "      <td>vhigh</td>\n",
       "      <td>vhigh</td>\n",
       "      <td>2</td>\n",
       "      <td>2</td>\n",
       "      <td>small</td>\n",
       "      <td>med</td>\n",
       "      <td>unacc</td>\n",
       "    </tr>\n",
       "    <tr>\n",
       "      <th>2</th>\n",
       "      <td>vhigh</td>\n",
       "      <td>vhigh</td>\n",
       "      <td>2</td>\n",
       "      <td>2</td>\n",
       "      <td>small</td>\n",
       "      <td>high</td>\n",
       "      <td>unacc</td>\n",
       "    </tr>\n",
       "    <tr>\n",
       "      <th>3</th>\n",
       "      <td>vhigh</td>\n",
       "      <td>vhigh</td>\n",
       "      <td>2</td>\n",
       "      <td>2</td>\n",
       "      <td>med</td>\n",
       "      <td>low</td>\n",
       "      <td>unacc</td>\n",
       "    </tr>\n",
       "    <tr>\n",
       "      <th>4</th>\n",
       "      <td>vhigh</td>\n",
       "      <td>vhigh</td>\n",
       "      <td>2</td>\n",
       "      <td>2</td>\n",
       "      <td>med</td>\n",
       "      <td>med</td>\n",
       "      <td>unacc</td>\n",
       "    </tr>\n",
       "  </tbody>\n",
       "</table>\n",
       "</div>"
      ],
      "text/plain": [
       "       0      1  2  3      4     5      6\n",
       "0  vhigh  vhigh  2  2  small   low  unacc\n",
       "1  vhigh  vhigh  2  2  small   med  unacc\n",
       "2  vhigh  vhigh  2  2  small  high  unacc\n",
       "3  vhigh  vhigh  2  2    med   low  unacc\n",
       "4  vhigh  vhigh  2  2    med   med  unacc"
      ]
     },
     "execution_count": 2,
     "metadata": {},
     "output_type": "execute_result"
    }
   ],
   "source": [
    "#Loading Dataset into dataframe\n",
    "df = pd.read_csv(\"car_evaluation.csv\",header=None)\n",
    "df.head()"
   ]
  },
  {
   "cell_type": "code",
   "execution_count": 3,
   "id": "bc04a77e-c9cd-45c2-b087-e6881be13e4a",
   "metadata": {},
   "outputs": [
    {
     "data": {
      "text/html": [
       "<div>\n",
       "<style scoped>\n",
       "    .dataframe tbody tr th:only-of-type {\n",
       "        vertical-align: middle;\n",
       "    }\n",
       "\n",
       "    .dataframe tbody tr th {\n",
       "        vertical-align: top;\n",
       "    }\n",
       "\n",
       "    .dataframe thead th {\n",
       "        text-align: right;\n",
       "    }\n",
       "</style>\n",
       "<table border=\"1\" class=\"dataframe\">\n",
       "  <thead>\n",
       "    <tr style=\"text-align: right;\">\n",
       "      <th></th>\n",
       "      <th>buying</th>\n",
       "      <th>maint</th>\n",
       "      <th>doors</th>\n",
       "      <th>persons</th>\n",
       "      <th>lug_boot</th>\n",
       "      <th>safety</th>\n",
       "      <th>class</th>\n",
       "    </tr>\n",
       "  </thead>\n",
       "  <tbody>\n",
       "    <tr>\n",
       "      <th>0</th>\n",
       "      <td>vhigh</td>\n",
       "      <td>vhigh</td>\n",
       "      <td>2</td>\n",
       "      <td>2</td>\n",
       "      <td>small</td>\n",
       "      <td>low</td>\n",
       "      <td>unacc</td>\n",
       "    </tr>\n",
       "    <tr>\n",
       "      <th>1</th>\n",
       "      <td>vhigh</td>\n",
       "      <td>vhigh</td>\n",
       "      <td>2</td>\n",
       "      <td>2</td>\n",
       "      <td>small</td>\n",
       "      <td>med</td>\n",
       "      <td>unacc</td>\n",
       "    </tr>\n",
       "    <tr>\n",
       "      <th>2</th>\n",
       "      <td>vhigh</td>\n",
       "      <td>vhigh</td>\n",
       "      <td>2</td>\n",
       "      <td>2</td>\n",
       "      <td>small</td>\n",
       "      <td>high</td>\n",
       "      <td>unacc</td>\n",
       "    </tr>\n",
       "    <tr>\n",
       "      <th>3</th>\n",
       "      <td>vhigh</td>\n",
       "      <td>vhigh</td>\n",
       "      <td>2</td>\n",
       "      <td>2</td>\n",
       "      <td>med</td>\n",
       "      <td>low</td>\n",
       "      <td>unacc</td>\n",
       "    </tr>\n",
       "    <tr>\n",
       "      <th>4</th>\n",
       "      <td>vhigh</td>\n",
       "      <td>vhigh</td>\n",
       "      <td>2</td>\n",
       "      <td>2</td>\n",
       "      <td>med</td>\n",
       "      <td>med</td>\n",
       "      <td>unacc</td>\n",
       "    </tr>\n",
       "  </tbody>\n",
       "</table>\n",
       "</div>"
      ],
      "text/plain": [
       "  buying  maint doors persons lug_boot safety  class\n",
       "0  vhigh  vhigh     2       2    small    low  unacc\n",
       "1  vhigh  vhigh     2       2    small    med  unacc\n",
       "2  vhigh  vhigh     2       2    small   high  unacc\n",
       "3  vhigh  vhigh     2       2      med    low  unacc\n",
       "4  vhigh  vhigh     2       2      med    med  unacc"
      ]
     },
     "execution_count": 3,
     "metadata": {},
     "output_type": "execute_result"
    }
   ],
   "source": [
    "#setting column names for dataset\n",
    "col_names = ['buying', 'maint', 'doors', 'persons', 'lug_boot', 'safety', 'class']\n",
    "df.columns=col_names\n",
    "df.head()"
   ]
  },
  {
   "cell_type": "code",
   "execution_count": 4,
   "id": "9c9d7d46-b710-43af-8589-e7938f9aebfc",
   "metadata": {},
   "outputs": [
    {
     "name": "stdout",
     "output_type": "stream",
     "text": [
      "---------Info---------\n",
      "\n",
      "<class 'pandas.core.frame.DataFrame'>\n",
      "RangeIndex: 1728 entries, 0 to 1727\n",
      "Data columns (total 7 columns):\n",
      " #   Column    Non-Null Count  Dtype \n",
      "---  ------    --------------  ----- \n",
      " 0   buying    1728 non-null   object\n",
      " 1   maint     1728 non-null   object\n",
      " 2   doors     1728 non-null   object\n",
      " 3   persons   1728 non-null   object\n",
      " 4   lug_boot  1728 non-null   object\n",
      " 5   safety    1728 non-null   object\n",
      " 6   class     1728 non-null   object\n",
      "dtypes: object(7)\n",
      "memory usage: 94.6+ KB\n",
      "\n",
      "\n",
      "---------Describe---------\n",
      "\n",
      "         count unique    top  freq\n",
      "buying    1728      4  vhigh   432\n",
      "maint     1728      4  vhigh   432\n",
      "doors     1728      4      2   432\n",
      "persons   1728      3      2   576\n",
      "lug_boot  1728      3  small   576\n",
      "safety    1728      3    low   576\n",
      "class     1728      4  unacc  1210\n",
      "\n",
      "\n",
      "---------Missing Values---------\n",
      "\n"
     ]
    },
    {
     "data": {
      "text/plain": [
       "buying      0\n",
       "maint       0\n",
       "doors       0\n",
       "persons     0\n",
       "lug_boot    0\n",
       "safety      0\n",
       "class       0\n",
       "dtype: int64"
      ]
     },
     "execution_count": 4,
     "metadata": {},
     "output_type": "execute_result"
    }
   ],
   "source": [
    "#print Info, Describe and check for missing values\n",
    "\n",
    "print(\"---------Info---------\\n\")\n",
    "df.info()\n",
    "print(\"\\n\")\n",
    "print(\"---------Describe---------\\n\")\n",
    "print(df.describe().T)\n",
    "print(\"\\n\")\n",
    "print(\"---------Missing Values---------\\n\")\n",
    "df.isna().sum()\n",
    "\n",
    "#we can see that dataset has no missing values so we can start processing the dataset for training "
   ]
  },
  {
   "cell_type": "code",
   "execution_count": 5,
   "id": "8222ccd1-cec9-48aa-abb5-5a8c0194b1fb",
   "metadata": {},
   "outputs": [],
   "source": [
    "#Splitting the dataset into features (X) and labels (y)\n",
    "X=df.drop('class',axis=1)\n",
    "y=df['class']"
   ]
  },
  {
   "cell_type": "code",
   "execution_count": 7,
   "id": "4cf1aff3-ac4b-4442-bee5-9f3899130845",
   "metadata": {},
   "outputs": [
    {
     "data": {
      "text/html": [
       "<div>\n",
       "<style scoped>\n",
       "    .dataframe tbody tr th:only-of-type {\n",
       "        vertical-align: middle;\n",
       "    }\n",
       "\n",
       "    .dataframe tbody tr th {\n",
       "        vertical-align: top;\n",
       "    }\n",
       "\n",
       "    .dataframe thead th {\n",
       "        text-align: right;\n",
       "    }\n",
       "</style>\n",
       "<table border=\"1\" class=\"dataframe\">\n",
       "  <thead>\n",
       "    <tr style=\"text-align: right;\">\n",
       "      <th></th>\n",
       "      <th>buying</th>\n",
       "      <th>maint</th>\n",
       "      <th>doors</th>\n",
       "      <th>persons</th>\n",
       "      <th>lug_boot</th>\n",
       "      <th>safety</th>\n",
       "    </tr>\n",
       "  </thead>\n",
       "  <tbody>\n",
       "    <tr>\n",
       "      <th>0</th>\n",
       "      <td>1</td>\n",
       "      <td>1</td>\n",
       "      <td>1</td>\n",
       "      <td>1</td>\n",
       "      <td>1</td>\n",
       "      <td>1</td>\n",
       "    </tr>\n",
       "    <tr>\n",
       "      <th>1</th>\n",
       "      <td>1</td>\n",
       "      <td>1</td>\n",
       "      <td>1</td>\n",
       "      <td>1</td>\n",
       "      <td>1</td>\n",
       "      <td>2</td>\n",
       "    </tr>\n",
       "    <tr>\n",
       "      <th>2</th>\n",
       "      <td>1</td>\n",
       "      <td>1</td>\n",
       "      <td>1</td>\n",
       "      <td>1</td>\n",
       "      <td>1</td>\n",
       "      <td>3</td>\n",
       "    </tr>\n",
       "    <tr>\n",
       "      <th>3</th>\n",
       "      <td>1</td>\n",
       "      <td>1</td>\n",
       "      <td>1</td>\n",
       "      <td>1</td>\n",
       "      <td>2</td>\n",
       "      <td>1</td>\n",
       "    </tr>\n",
       "    <tr>\n",
       "      <th>4</th>\n",
       "      <td>1</td>\n",
       "      <td>1</td>\n",
       "      <td>1</td>\n",
       "      <td>1</td>\n",
       "      <td>2</td>\n",
       "      <td>2</td>\n",
       "    </tr>\n",
       "  </tbody>\n",
       "</table>\n",
       "</div>"
      ],
      "text/plain": [
       "   buying  maint  doors  persons  lug_boot  safety\n",
       "0       1      1      1        1         1       1\n",
       "1       1      1      1        1         1       2\n",
       "2       1      1      1        1         1       3\n",
       "3       1      1      1        1         2       1\n",
       "4       1      1      1        1         2       2"
      ]
     },
     "execution_count": 7,
     "metadata": {},
     "output_type": "execute_result"
    }
   ],
   "source": [
    "#Encoding the dataset to transform the categorical values of the relevant features into numerical ones\n",
    "encoder=ce.OrdinalEncoder(cols=['buying', 'maint', 'doors', 'persons', 'lug_boot', 'safety'])\n",
    "X=encoder.fit_transform(X)\n",
    "X.head()"
   ]
  },
  {
   "cell_type": "code",
   "execution_count": 10,
   "id": "4ab9bed2-7171-4143-ba33-dafd7dc75309",
   "metadata": {},
   "outputs": [
    {
     "name": "stdout",
     "output_type": "stream",
     "text": [
      "Training set size: 1209\n",
      "Test set size: 519\n"
     ]
    }
   ],
   "source": [
    "#Splitting the dataset into training and test (0.7,0.3), there is no need to split a validation set since we are using GridSearchCV\n",
    "X_train,X_test,y_train,y_test=train_test_split(X,y,test_size=0.3,random_state=42)\n",
    "print('Training set size:',y_train.size)\n",
    "print('Test set size:',y_test.size)"
   ]
  },
  {
   "cell_type": "markdown",
   "id": "822b5bf8-7aa4-4cb3-822d-74060239627d",
   "metadata": {},
   "source": [
    "# SVM"
   ]
  },
  {
   "cell_type": "code",
   "execution_count": 11,
   "id": "1f96f944-3b38-4f96-a350-0b0b26eabb0b",
   "metadata": {},
   "outputs": [
    {
     "data": {
      "text/html": [
       "<style>#sk-container-id-1 {color: black;background-color: white;}#sk-container-id-1 pre{padding: 0;}#sk-container-id-1 div.sk-toggleable {background-color: white;}#sk-container-id-1 label.sk-toggleable__label {cursor: pointer;display: block;width: 100%;margin-bottom: 0;padding: 0.3em;box-sizing: border-box;text-align: center;}#sk-container-id-1 label.sk-toggleable__label-arrow:before {content: \"▸\";float: left;margin-right: 0.25em;color: #696969;}#sk-container-id-1 label.sk-toggleable__label-arrow:hover:before {color: black;}#sk-container-id-1 div.sk-estimator:hover label.sk-toggleable__label-arrow:before {color: black;}#sk-container-id-1 div.sk-toggleable__content {max-height: 0;max-width: 0;overflow: hidden;text-align: left;background-color: #f0f8ff;}#sk-container-id-1 div.sk-toggleable__content pre {margin: 0.2em;color: black;border-radius: 0.25em;background-color: #f0f8ff;}#sk-container-id-1 input.sk-toggleable__control:checked~div.sk-toggleable__content {max-height: 200px;max-width: 100%;overflow: auto;}#sk-container-id-1 input.sk-toggleable__control:checked~label.sk-toggleable__label-arrow:before {content: \"▾\";}#sk-container-id-1 div.sk-estimator input.sk-toggleable__control:checked~label.sk-toggleable__label {background-color: #d4ebff;}#sk-container-id-1 div.sk-label input.sk-toggleable__control:checked~label.sk-toggleable__label {background-color: #d4ebff;}#sk-container-id-1 input.sk-hidden--visually {border: 0;clip: rect(1px 1px 1px 1px);clip: rect(1px, 1px, 1px, 1px);height: 1px;margin: -1px;overflow: hidden;padding: 0;position: absolute;width: 1px;}#sk-container-id-1 div.sk-estimator {font-family: monospace;background-color: #f0f8ff;border: 1px dotted black;border-radius: 0.25em;box-sizing: border-box;margin-bottom: 0.5em;}#sk-container-id-1 div.sk-estimator:hover {background-color: #d4ebff;}#sk-container-id-1 div.sk-parallel-item::after {content: \"\";width: 100%;border-bottom: 1px solid gray;flex-grow: 1;}#sk-container-id-1 div.sk-label:hover label.sk-toggleable__label {background-color: #d4ebff;}#sk-container-id-1 div.sk-serial::before {content: \"\";position: absolute;border-left: 1px solid gray;box-sizing: border-box;top: 0;bottom: 0;left: 50%;z-index: 0;}#sk-container-id-1 div.sk-serial {display: flex;flex-direction: column;align-items: center;background-color: white;padding-right: 0.2em;padding-left: 0.2em;position: relative;}#sk-container-id-1 div.sk-item {position: relative;z-index: 1;}#sk-container-id-1 div.sk-parallel {display: flex;align-items: stretch;justify-content: center;background-color: white;position: relative;}#sk-container-id-1 div.sk-item::before, #sk-container-id-1 div.sk-parallel-item::before {content: \"\";position: absolute;border-left: 1px solid gray;box-sizing: border-box;top: 0;bottom: 0;left: 50%;z-index: -1;}#sk-container-id-1 div.sk-parallel-item {display: flex;flex-direction: column;z-index: 1;position: relative;background-color: white;}#sk-container-id-1 div.sk-parallel-item:first-child::after {align-self: flex-end;width: 50%;}#sk-container-id-1 div.sk-parallel-item:last-child::after {align-self: flex-start;width: 50%;}#sk-container-id-1 div.sk-parallel-item:only-child::after {width: 0;}#sk-container-id-1 div.sk-dashed-wrapped {border: 1px dashed gray;margin: 0 0.4em 0.5em 0.4em;box-sizing: border-box;padding-bottom: 0.4em;background-color: white;}#sk-container-id-1 div.sk-label label {font-family: monospace;font-weight: bold;display: inline-block;line-height: 1.2em;}#sk-container-id-1 div.sk-label-container {text-align: center;}#sk-container-id-1 div.sk-container {/* jupyter's `normalize.less` sets `[hidden] { display: none; }` but bootstrap.min.css set `[hidden] { display: none !important; }` so we also need the `!important` here to be able to override the default hidden behavior on the sphinx rendered scikit-learn.org. See: https://github.com/scikit-learn/scikit-learn/issues/21755 */display: inline-block !important;position: relative;}#sk-container-id-1 div.sk-text-repr-fallback {display: none;}</style><div id=\"sk-container-id-1\" class=\"sk-top-container\"><div class=\"sk-text-repr-fallback\"><pre>GridSearchCV(estimator=SVC(random_state=42),\n",
       "             param_grid={&#x27;C&#x27;: [0.1, 1, 10, 100, 1000],\n",
       "                         &#x27;gamma&#x27;: [1, 0.1, 0.01, 0.001, 0.0001],\n",
       "                         &#x27;kernel&#x27;: [&#x27;linear&#x27;, &#x27;rbf&#x27;, &#x27;poly&#x27;]})</pre><b>In a Jupyter environment, please rerun this cell to show the HTML representation or trust the notebook. <br />On GitHub, the HTML representation is unable to render, please try loading this page with nbviewer.org.</b></div><div class=\"sk-container\" hidden><div class=\"sk-item sk-dashed-wrapped\"><div class=\"sk-label-container\"><div class=\"sk-label sk-toggleable\"><input class=\"sk-toggleable__control sk-hidden--visually\" id=\"sk-estimator-id-1\" type=\"checkbox\" ><label for=\"sk-estimator-id-1\" class=\"sk-toggleable__label sk-toggleable__label-arrow\">GridSearchCV</label><div class=\"sk-toggleable__content\"><pre>GridSearchCV(estimator=SVC(random_state=42),\n",
       "             param_grid={&#x27;C&#x27;: [0.1, 1, 10, 100, 1000],\n",
       "                         &#x27;gamma&#x27;: [1, 0.1, 0.01, 0.001, 0.0001],\n",
       "                         &#x27;kernel&#x27;: [&#x27;linear&#x27;, &#x27;rbf&#x27;, &#x27;poly&#x27;]})</pre></div></div></div><div class=\"sk-parallel\"><div class=\"sk-parallel-item\"><div class=\"sk-item\"><div class=\"sk-label-container\"><div class=\"sk-label sk-toggleable\"><input class=\"sk-toggleable__control sk-hidden--visually\" id=\"sk-estimator-id-2\" type=\"checkbox\" ><label for=\"sk-estimator-id-2\" class=\"sk-toggleable__label sk-toggleable__label-arrow\">estimator: SVC</label><div class=\"sk-toggleable__content\"><pre>SVC(random_state=42)</pre></div></div></div><div class=\"sk-serial\"><div class=\"sk-item\"><div class=\"sk-estimator sk-toggleable\"><input class=\"sk-toggleable__control sk-hidden--visually\" id=\"sk-estimator-id-3\" type=\"checkbox\" ><label for=\"sk-estimator-id-3\" class=\"sk-toggleable__label sk-toggleable__label-arrow\">SVC</label><div class=\"sk-toggleable__content\"><pre>SVC(random_state=42)</pre></div></div></div></div></div></div></div></div></div></div>"
      ],
      "text/plain": [
       "GridSearchCV(estimator=SVC(random_state=42),\n",
       "             param_grid={'C': [0.1, 1, 10, 100, 1000],\n",
       "                         'gamma': [1, 0.1, 0.01, 0.001, 0.0001],\n",
       "                         'kernel': ['linear', 'rbf', 'poly']})"
      ]
     },
     "execution_count": 11,
     "metadata": {},
     "output_type": "execute_result"
    }
   ],
   "source": [
    "#setting svm parameters to prepare for hypertuning using GridSearchCV\n",
    "svm_params = {'C': [0.1, 1, 10, 100, 1000], \n",
    "              'gamma': [1, 0.1, 0.01, 0.001, 0.0001],\n",
    "              'kernel': ['linear', 'rbf', 'poly']} \n",
    "\n",
    "svm_grid = GridSearchCV(SVC(random_state=42), svm_params)\n",
    "svm_grid.fit(X_train,y_train)"
   ]
  },
  {
   "cell_type": "code",
   "execution_count": 12,
   "id": "c39461d7-bf01-43b7-a805-441d54fc1e3c",
   "metadata": {},
   "outputs": [
    {
     "name": "stdout",
     "output_type": "stream",
     "text": [
      "Best SVM Hyperparameters: {'C': 100, 'gamma': 0.1, 'kernel': 'rbf'}\n"
     ]
    }
   ],
   "source": [
    "#Best Hyperparameters\n",
    "best_svm_params = svm_grid.best_params_\n",
    "print(\"Best SVM Hyperparameters:\", best_svm_params)"
   ]
  },
  {
   "cell_type": "code",
   "execution_count": 13,
   "id": "5f9d486a-1aba-4ef7-9f6d-195b3664cf86",
   "metadata": {},
   "outputs": [],
   "source": [
    "#training the model using the best hyperparameters \n",
    "svm = SVC(**best_svm_params, random_state=42)\n",
    "svm.fit(X_train, y_train)\n",
    "y_pred_test_svm = svm.predict(X_test)"
   ]
  },
  {
   "cell_type": "code",
   "execution_count": 14,
   "id": "9ac1f272-8655-4ea0-8cb8-7cf48a15b490",
   "metadata": {},
   "outputs": [
    {
     "name": "stdout",
     "output_type": "stream",
     "text": [
      "SVM Accuracy: 0.9769\n"
     ]
    }
   ],
   "source": [
    "#Accuracy Score\n",
    "accuracy_score_svm = accuracy_score(y_test,y_pred_test_svm)\n",
    "print(\"SVM Accuracy:\", round(accuracy_score_svm,4))"
   ]
  },
  {
   "cell_type": "code",
   "execution_count": 15,
   "id": "3ebd012f-6e25-4acf-9ab6-a23574c0c57a",
   "metadata": {},
   "outputs": [
    {
     "data": {
      "image/png": "[encoded data removed]",
      "text/plain": [
       "<Figure size 640x480 with 2 Axes>"
      ]
     },
     "metadata": {},
     "output_type": "display_data"
    }
   ],
   "source": [
    "#forming confusion matrix and plotting \n",
    "confusion_matrix_svm = confusion_matrix(y_test,y_pred_test_svm)\n",
    "cm_display = ConfusionMatrixDisplay(confusion_matrix = confusion_matrix_svm, display_labels = ['acc', 'good','unacc','vgood'])\n",
    "cm_display.plot()\n",
    "cm_display.ax_.set_title(\"SVM Confusion Matrix\")\n",
    "plt.show()"
   ]
  },
  {
   "cell_type": "code",
   "execution_count": 16,
   "id": "84818425-b02b-4cb6-928f-c58a60c3b1e3",
   "metadata": {},
   "outputs": [
    {
     "name": "stdout",
     "output_type": "stream",
     "text": [
      "\t\tClassification Report for SVM\n",
      "\n",
      "              precision    recall  f1-score   support\n",
      "\n",
      "         acc       0.97      0.95      0.96       118\n",
      "        good       0.85      0.89      0.87        19\n",
      "       unacc       0.99      0.99      0.99       358\n",
      "       vgood       0.92      0.92      0.92        24\n",
      "\n",
      "    accuracy                           0.98       519\n",
      "   macro avg       0.93      0.94      0.93       519\n",
      "weighted avg       0.98      0.98      0.98       519\n",
      "\n"
     ]
    }
   ],
   "source": [
    "#Classification Report\n",
    "classification_report_svm = classification_report(y_test,y_pred_test_svm)\n",
    "print(\"\\t\\tClassification Report for SVM\\n\")\n",
    "print(classification_report_svm)"
   ]
  },
  {
   "cell_type": "markdown",
   "id": "40234178-d06a-465f-8bd1-7227593a30d1",
   "metadata": {},
   "source": [
    "# Logistic Regression"
   ]
  },
  {
   "cell_type": "code",
   "execution_count": null,
   "id": "d58ef7ac-93ad-4bfa-ad15-464559284189",
   "metadata": {},
   "outputs": [],
   "source": [
    "#Setting Logistic Regression parameters to prepare for hyperparameter tuning using GridSearchCV\n",
    "log_params = [    \n",
    "    {'penalty' : ['l1', 'l2'],\n",
    "    'C' : np.logspace(-4, 4, 20),\n",
    "    'solver' : ['newton-cg','liblinear','lbfgs','saga'],\n",
    "    'max_iter' : [2500, 5000]\n",
    "    }\n",
    "]\n",
    "\n",
    "log_grid = GridSearchCV(LogisticRegression(),log_params)\n",
    "log_grid.fit(X_train,y_train)\n",
    "\n",
    "#We see that some fits failed, this is expected because some solvers dont work with some penalties, it doesnt affect the final outcome of GridSearchCV"
   ]
  },
  {
   "cell_type": "code",
   "execution_count": 18,
   "id": "811e59aa-ea40-45a5-a803-aabadfa26811",
   "metadata": {},
   "outputs": [
    {
     "name": "stdout",
     "output_type": "stream",
     "text": [
      "Best Logistic Regression Hyperparameters: {'C': 29.763514416313132, 'max_iter': 2500, 'penalty': 'l2', 'solver': 'newton-cg'}\n"
     ]
    }
   ],
   "source": [
    "#Best Hyperparameters\n",
    "best_log_params = log_grid.best_params_\n",
    "print(\"Best Logistic Regression Hyperparameters:\", best_log_params)"
   ]
  },
  {
   "cell_type": "code",
   "execution_count": null,
   "id": "c8b97cef-41ee-4040-bbbd-32620abbed26",
   "metadata": {},
   "outputs": [],
   "source": [
    "#training the model using the best hyperparameters \n",
    "log = LogisticRegression(**best_log_params, random_state=42)\n",
    "log.fit(X_train, y_train)\n",
    "y_pred_test_log=log.predict(X_test)"
   ]
  },
  {
   "cell_type": "code",
   "execution_count": 21,
   "id": "a03617cb-4bba-48f7-ae18-a207a49f79d9",
   "metadata": {},
   "outputs": [
    {
     "name": "stdout",
     "output_type": "stream",
     "text": [
      "Logistic Regression Accuracy: 0.8285\n"
     ]
    }
   ],
   "source": [
    "#Accuracy \n",
    "accuracy_score_log=accuracy_score(y_test,y_pred_test_log)\n",
    "print(\"Logistic Regression Accuracy:\", round(accuracy_score_log,4))"
   ]
  },
  {
   "cell_type": "code",
   "execution_count": 22,
   "id": "fc307bcf-e361-4b49-bd4c-316de78e2693",
   "metadata": {},
   "outputs": [
    {
     "data": {
      "image/png": "[encoded data removed]",
      "text/plain": [
       "<Figure size 640x480 with 2 Axes>"
      ]
     },
     "metadata": {},
     "output_type": "display_data"
    }
   ],
   "source": [
    "#forming confusion matrix and plotting \n",
    "confusion_matrix_log = confusion_matrix(y_test,y_pred_test_log)\n",
    "cm_display = ConfusionMatrixDisplay(confusion_matrix = confusion_matrix_log, display_labels = ['acc', 'good','unacc','vgood'])\n",
    "cm_display.plot()\n",
    "cm_display.ax_.set_title(\"Logistic Regression Confusion Matrix\")\n",
    "plt.show()"
   ]
  },
  {
   "cell_type": "code",
   "execution_count": 23,
   "id": "4d73ccea-feca-4efb-8140-90d25284583c",
   "metadata": {},
   "outputs": [
    {
     "name": "stdout",
     "output_type": "stream",
     "text": [
      "\tClassification Report for Logistic Regression\n",
      "\n",
      "              precision    recall  f1-score   support\n",
      "\n",
      "         acc       0.69      0.58      0.63       118\n",
      "        good       0.64      0.47      0.55        19\n",
      "       unacc       0.88      0.93      0.90       358\n",
      "       vgood       0.76      0.79      0.78        24\n",
      "\n",
      "    accuracy                           0.83       519\n",
      "   macro avg       0.74      0.70      0.71       519\n",
      "weighted avg       0.82      0.83      0.82       519\n",
      "\n"
     ]
    }
   ],
   "source": [
    "classification_report_log = classification_report(y_test,y_pred_test_log)\n",
    "print(\"\\tClassification Report for Logistic Regression\\n\")\n",
    "print(classification_report_log)"
   ]
  },
  {
   "cell_type": "markdown",
   "id": "b2a47b21-99c9-4fdf-b82b-f5061d3e7ec4",
   "metadata": {},
   "source": [
    "# MLP"
   ]
  },
  {
   "cell_type": "code",
   "execution_count": null,
   "id": "eca0b1ec-7e41-4ccc-83f9-11086022c45a",
   "metadata": {},
   "outputs": [],
   "source": [
    "#Setting MLP parameters to prepare for hyperparameter tuning using GridSearchCV\n",
    "mlp_params = {\n",
    "    'hidden_layer_sizes': [(100,), (50, 50), (100, 50, 25)],\n",
    "    'activation': ['relu', 'tanh'],\n",
    "    'solver': ['adam', 'sgd'],\n",
    "}\n",
    "\n",
    "mlp_grid = GridSearchCV(MLPClassifier(max_iter=1500),mlp_params)\n",
    "mlp_grid.fit(X_train,y_train)"
   ]
  },
  {
   "cell_type": "code",
   "execution_count": 34,
   "id": "a227d1b5-daab-458b-9529-401147174636",
   "metadata": {},
   "outputs": [
    {
     "name": "stdout",
     "output_type": "stream",
     "text": [
      "Best MLP Hyperparameters: {'activation': 'tanh', 'hidden_layer_sizes': (100, 50, 25), 'solver': 'adam'}\n"
     ]
    }
   ],
   "source": [
    "#Best hyperparameters\n",
    "best_mlp_params = mlp_grid.best_params_\n",
    "print(\"Best MLP Hyperparameters:\", best_mlp_params)"
   ]
  },
  {
   "cell_type": "code",
   "execution_count": 35,
   "id": "9c6e2c45-59ab-46d3-a708-6fb0085e6972",
   "metadata": {},
   "outputs": [],
   "source": [
    "#training the model using the best hyperparameters \n",
    "mlp = MLPClassifier(**best_mlp_params, random_state=42,max_iter=1000)\n",
    "mlp.fit(X_train, y_train)\n",
    "y_pred_test_mlp=mlp.predict(X_test)"
   ]
  },
  {
   "cell_type": "code",
   "execution_count": 36,
   "id": "973a025e-8db5-43e7-875d-8b9362e64d39",
   "metadata": {},
   "outputs": [
    {
     "name": "stdout",
     "output_type": "stream",
     "text": [
      "MLP Accuracy: 0.9692\n"
     ]
    }
   ],
   "source": [
    "#Accuracy \n",
    "accuracy_score_mlp=accuracy_score(y_test,y_pred_test_mlp)\n",
    "print(\"MLP Accuracy:\", round(accuracy_score_mlp,4))"
   ]
  },
  {
   "cell_type": "code",
   "execution_count": 28,
   "id": "34d2224b-6df3-418c-8d9e-4169fdd79912",
   "metadata": {},
   "outputs": [
    {
     "data": {
      "image/png": "[encoded data removed]",
      "text/plain": [
       "<Figure size 640x480 with 2 Axes>"
      ]
     },
     "metadata": {},
     "output_type": "display_data"
    }
   ],
   "source": [
    "#forming confusion matrix and plotting \n",
    "confusion_matrix_mlp = confusion_matrix(y_test,y_pred_test_mlp)\n",
    "cm_display = ConfusionMatrixDisplay(confusion_matrix = confusion_matrix_mlp, display_labels = ['acc', 'good','unacc','vgood'])\n",
    "cm_display.plot()\n",
    "cm_display.ax_.set_title(\"MLP Confusion Matrix\")\n",
    "plt.show()"
   ]
  },
  {
   "cell_type": "code",
   "execution_count": 29,
   "id": "f8e4662f-760b-447e-8038-58c17c8ba4fc",
   "metadata": {},
   "outputs": [
    {
     "name": "stdout",
     "output_type": "stream",
     "text": [
      "\t\tClassification Report for MLP\n",
      "\n",
      "              precision    recall  f1-score   support\n",
      "\n",
      "         acc       0.93      0.96      0.95       118\n",
      "        good       0.80      0.84      0.82        19\n",
      "       unacc       0.99      0.99      0.99       358\n",
      "       vgood       0.95      0.79      0.86        24\n",
      "\n",
      "    accuracy                           0.97       519\n",
      "   macro avg       0.92      0.90      0.91       519\n",
      "weighted avg       0.97      0.97      0.97       519\n",
      "\n"
     ]
    }
   ],
   "source": [
    "classification_report_mlp = classification_report(y_test,y_pred_test_mlp)\n",
    "print(\"\\t\\tClassification Report for MLP\\n\")\n",
    "print(classification_report_mlp)"
   ]
  },
  {
   "cell_type": "markdown",
   "id": "2fa50a63-f62f-4b33-b82a-a2dd7ec2e34c",
   "metadata": {},
   "source": [
    "# Baseline Models"
   ]
  },
  {
   "cell_type": "code",
   "execution_count": 33,
   "id": "ad22d825-2e67-4641-b09d-bd29c3d7684d",
   "metadata": {},
   "outputs": [
    {
     "name": "stdout",
     "output_type": "stream",
     "text": [
      "Base Model Logistic Regression Accuracy: 0.8189\n"
     ]
    }
   ],
   "source": [
    "log_base = LogisticRegression(random_state = 42,max_iter =2500)\n",
    "log_base.fit(X_train,y_train)\n",
    "y_pred_test_log_base = log_base.predict(X_test)\n",
    "accuracy_score_log_base=accuracy_score(y_test,y_pred_test_log_base)\n",
    "print(\"Base Model Logistic Regression Accuracy:\", round(accuracy_score_log_base,4))"
   ]
  },
  {
   "cell_type": "code",
   "execution_count": 31,
   "id": "b8902eff-723d-4690-a77f-3eff10dab25d",
   "metadata": {},
   "outputs": [
    {
     "name": "stdout",
     "output_type": "stream",
     "text": [
      "Base Model SVM Accuracy: 0.9634\n"
     ]
    }
   ],
   "source": [
    "SVM_base = SVC(random_state = 42)\n",
    "SVM_base.fit(X_train,y_train)\n",
    "y_pred_test_svm_base = SVM_base.predict(X_test)\n",
    "accuracy_score_svm_base=accuracy_score(y_test,y_pred_test_svm_base)\n",
    "print(\"Base Model SVM Accuracy:\", round(accuracy_score_svm_base,4))"
   ]
  },
  {
   "cell_type": "code",
   "execution_count": 32,
   "id": "25e3c378-f3c4-4be2-a4ad-0c76e1e9e124",
   "metadata": {},
   "outputs": [
    {
     "name": "stdout",
     "output_type": "stream",
     "text": [
      "Base MLP Accuracy: 0.9326\n"
     ]
    }
   ],
   "source": [
    "MLP_base = MLPClassifier(random_state = 42, max_iter = 1000)\n",
    "MLP_base.fit(X_train,y_train)\n",
    "y_pred_test_mlp_base = MLP_base.predict(X_test)\n",
    "accuracy_score_mlp_base=accuracy_score(y_test,y_pred_test_mlp_base)\n",
    "print(\"Base MLP Accuracy:\", round(accuracy_score_mlp_base,4))"
   ]
  }
 ],
 "metadata": {
  "kernelspec": {
   "display_name": "Python 3 (ipykernel)",
   "language": "python",
   "name": "python3"
  },
  "language_info": {
   "codemirror_mode": {
    "name": "ipython",
    "version": 3
   },
   "file_extension": ".py",
   "mimetype": "text/x-python",
   "name": "python",
   "nbconvert_exporter": "python",
   "pygments_lexer": "ipython3",
   "version": "3.11.2"
  }
 },
 "nbformat": 4,
 "nbformat_minor": 5
}
